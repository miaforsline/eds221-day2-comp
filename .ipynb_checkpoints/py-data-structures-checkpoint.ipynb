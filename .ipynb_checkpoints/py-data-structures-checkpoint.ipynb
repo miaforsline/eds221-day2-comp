{
 "cells": [
  {
   "cell_type": "markdown",
   "id": "e268a7fc",
   "metadata": {},
   "source": [
    "## Make and index some data in Python\n",
    "\n",
    "Creating vectors, and a pandas DataFrame, some low-key indexing "
   ]
  },
  {
   "cell_type": "code",
   "execution_count": 12,
   "id": "08e8356a",
   "metadata": {},
   "outputs": [],
   "source": [
    "import numpy as np\n",
    "import pandas as pd\n"
   ]
  },
  {
   "cell_type": "code",
   "execution_count": 13,
   "id": "9eca8d42",
   "metadata": {},
   "outputs": [
    {
     "data": {
      "text/plain": [
       "[1, 2, 8, 10, 20, 1000]"
      ]
     },
     "execution_count": 13,
     "metadata": {},
     "output_type": "execute_result"
    }
   ],
   "source": [
    "teddy = [1, 2, 8] #make a list\n",
    "type(teddy) #check class\n",
    "\n",
    "khora = [10, 20, 1000]\n",
    "type(khora)\n",
    "\n",
    "teddy + khora #how can we change these vectors to be numeric ? "
   ]
  },
  {
   "cell_type": "code",
   "execution_count": 15,
   "id": "5397b907",
   "metadata": {},
   "outputs": [
    {
     "data": {
      "text/plain": [
       "array([1, 2, 8])"
      ]
     },
     "execution_count": 15,
     "metadata": {},
     "output_type": "execute_result"
    }
   ],
   "source": [
    "teddy_vec = np.array(teddy) #create an array (numeric vector)\n",
    "type(teddy_vec)\n",
    "\n",
    "teddy_vec"
   ]
  },
  {
   "cell_type": "code",
   "execution_count": 16,
   "id": "86a7c0ef",
   "metadata": {},
   "outputs": [
    {
     "data": {
      "text/plain": [
       "2"
      ]
     },
     "execution_count": 16,
     "metadata": {},
     "output_type": "execute_result"
    }
   ],
   "source": [
    "teddy[1] #Python uses zero-positioning and single [] to call the content of a vector "
   ]
  },
  {
   "cell_type": "code",
   "execution_count": 17,
   "id": "a097d44a",
   "metadata": {},
   "outputs": [],
   "source": [
    "teddy[1] = 5000 #lists are mutable "
   ]
  },
  {
   "cell_type": "code",
   "execution_count": 18,
   "id": "ac5e19d6",
   "metadata": {},
   "outputs": [
    {
     "data": {
      "text/plain": [
       "5000"
      ]
     },
     "execution_count": 18,
     "metadata": {},
     "output_type": "execute_result"
    }
   ],
   "source": [
    "teddy[1]"
   ]
  },
  {
   "cell_type": "code",
   "execution_count": 19,
   "id": "7834cc20",
   "metadata": {},
   "outputs": [],
   "source": [
    "teddy_tup = (1, 3, 5)#make a tuple with round ()"
   ]
  },
  {
   "cell_type": "code",
   "execution_count": 20,
   "id": "3951245c",
   "metadata": {},
   "outputs": [
    {
     "ename": "TypeError",
     "evalue": "'tuple' object does not support item assignment",
     "output_type": "error",
     "traceback": [
      "\u001b[0;31m---------------------------------------------------------------------------\u001b[0m",
      "\u001b[0;31mTypeError\u001b[0m                                 Traceback (most recent call last)",
      "\u001b[0;32m<ipython-input-20-865f14285727>\u001b[0m in \u001b[0;36m<module>\u001b[0;34m\u001b[0m\n\u001b[0;32m----> 1\u001b[0;31m \u001b[0mteddy_tup\u001b[0m\u001b[0;34m[\u001b[0m\u001b[0;36m1\u001b[0m\u001b[0;34m]\u001b[0m \u001b[0;34m=\u001b[0m \u001b[0;36m23\u001b[0m\u001b[0;34m\u001b[0m\u001b[0;34m\u001b[0m\u001b[0m\n\u001b[0m",
      "\u001b[0;31mTypeError\u001b[0m: 'tuple' object does not support item assignment"
     ]
    }
   ],
   "source": [
    "teddy_tup[1] = 23 #tuples are not mutable "
   ]
  },
  {
   "cell_type": "code",
   "execution_count": 27,
   "id": "3a449e24",
   "metadata": {},
   "outputs": [],
   "source": [
    "waffle = [2.9, \"a burrito\", [0, 1, 15], False] #we can create lists w/elements of different classes"
   ]
  },
  {
   "cell_type": "code",
   "execution_count": 24,
   "id": "6474bc64",
   "metadata": {},
   "outputs": [
    {
     "data": {
      "text/plain": [
       "[2, 'a burrito', [0, 1, 15], False]"
      ]
     },
     "execution_count": 24,
     "metadata": {},
     "output_type": "execute_result"
    }
   ],
   "source": [
    "waffle"
   ]
  },
  {
   "cell_type": "code",
   "execution_count": 25,
   "id": "89a718d2",
   "metadata": {},
   "outputs": [
    {
     "data": {
      "text/plain": [
       "[0, 1, 15]"
      ]
     },
     "execution_count": 25,
     "metadata": {},
     "output_type": "execute_result"
    }
   ],
   "source": [
    "waffle[2]"
   ]
  },
  {
   "cell_type": "code",
   "execution_count": 28,
   "id": "eea8ba97",
   "metadata": {},
   "outputs": [
    {
     "data": {
      "text/plain": [
       "float"
      ]
     },
     "execution_count": 28,
     "metadata": {},
     "output_type": "execute_result"
    }
   ],
   "source": [
    "type(waffle[0])"
   ]
  },
  {
   "cell_type": "code",
   "execution_count": 29,
   "id": "2e1abe42",
   "metadata": {},
   "outputs": [],
   "source": [
    "waffle[0] = \"Tuesday\"#we can replace elements "
   ]
  },
  {
   "cell_type": "code",
   "execution_count": 30,
   "id": "b99e7ffb",
   "metadata": {},
   "outputs": [
    {
     "data": {
      "text/plain": [
       "['Tuesday', 'a burrito', [0, 1, 15], False]"
      ]
     },
     "execution_count": 30,
     "metadata": {},
     "output_type": "execute_result"
    }
   ],
   "source": [
    "waffle"
   ]
  },
  {
   "cell_type": "code",
   "execution_count": 31,
   "id": "c970d9ed",
   "metadata": {},
   "outputs": [],
   "source": [
    "cows = {'name': [\"moo\", \"spots\", \"happy\"], 'location': [\"pasture\", \"prairie\", \"farm\"]} #create a dictionary "
   ]
  },
  {
   "cell_type": "code",
   "execution_count": 32,
   "id": "298cfcdd",
   "metadata": {},
   "outputs": [
    {
     "data": {
      "text/plain": [
       "{'name': ['moo', 'spots', 'happy'], 'location': ['pasture', 'prairie', 'farm']}"
      ]
     },
     "execution_count": 32,
     "metadata": {},
     "output_type": "execute_result"
    }
   ],
   "source": [
    "cows"
   ]
  },
  {
   "cell_type": "code",
   "execution_count": 34,
   "id": "0dc26338",
   "metadata": {},
   "outputs": [
    {
     "data": {
      "text/html": [
       "<div>\n",
       "<style scoped>\n",
       "    .dataframe tbody tr th:only-of-type {\n",
       "        vertical-align: middle;\n",
       "    }\n",
       "\n",
       "    .dataframe tbody tr th {\n",
       "        vertical-align: top;\n",
       "    }\n",
       "\n",
       "    .dataframe thead th {\n",
       "        text-align: right;\n",
       "    }\n",
       "</style>\n",
       "<table border=\"1\" class=\"dataframe\">\n",
       "  <thead>\n",
       "    <tr style=\"text-align: right;\">\n",
       "      <th></th>\n",
       "      <th>name</th>\n",
       "      <th>location</th>\n",
       "    </tr>\n",
       "  </thead>\n",
       "  <tbody>\n",
       "    <tr>\n",
       "      <th>0</th>\n",
       "      <td>moo</td>\n",
       "      <td>pasture</td>\n",
       "    </tr>\n",
       "    <tr>\n",
       "      <th>1</th>\n",
       "      <td>spots</td>\n",
       "      <td>prairie</td>\n",
       "    </tr>\n",
       "    <tr>\n",
       "      <th>2</th>\n",
       "      <td>happy</td>\n",
       "      <td>farm</td>\n",
       "    </tr>\n",
       "  </tbody>\n",
       "</table>\n",
       "</div>"
      ],
      "text/plain": [
       "    name location\n",
       "0    moo  pasture\n",
       "1  spots  prairie\n",
       "2  happy     farm"
      ]
     },
     "execution_count": 34,
     "metadata": {},
     "output_type": "execute_result"
    }
   ],
   "source": [
    "cows_df = pd.DataFrame(cows) #make a pandas df \n",
    "cows_df"
   ]
  },
  {
   "cell_type": "code",
   "execution_count": null,
   "id": "3b359fa1",
   "metadata": {},
   "outputs": [],
   "source": []
  }
 ],
 "metadata": {
  "kernelspec": {
   "display_name": "Python 3",
   "language": "python",
   "name": "python3"
  },
  "language_info": {
   "codemirror_mode": {
    "name": "ipython",
    "version": 3
   },
   "file_extension": ".py",
   "mimetype": "text/x-python",
   "name": "python",
   "nbconvert_exporter": "python",
   "pygments_lexer": "ipython3",
   "version": "3.8.8"
  }
 },
 "nbformat": 4,
 "nbformat_minor": 5
}
